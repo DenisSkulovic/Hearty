{
 "cells": [
  {
   "cell_type": "markdown",
   "metadata": {},
   "source": [
    "This file creates two groups of models for two different subsets of the same dataset. The dataset is on the topic of heart disease. It was acquired through the API of https://data.world/uci/heart-disease using their python package \"datadotworld\".\n",
    "\n",
    "The dataset initially consisted of four sets for Hungary, Long Beach, Switzerland and Cleveland, which were combined into one.\n",
    "\n",
    "The 'bad columns' subset refers to features that require no medical examination. The quentions include age, sex, smoking, family history of heart disease, family history of diabetes, etc.\n",
    "\n",
    "The 'better columns' subset consists of medical metrics collected by professionals during patient examination. Better columns resulted in better recall for the models.\n",
    "\n",
    "Conclusion: Consult your doctor. Do not rely purely on the features from the 'bad columns' subset. Diagnosis requires medical examination."
   ]
  },
  {
   "cell_type": "code",
   "execution_count": 1,
   "metadata": {},
   "outputs": [],
   "source": [
    "import pandas as pd \n",
    "import numpy as np \n",
    "import matplotlib.pyplot as plt \n",
    "from tqdm import tqdm\n",
    "import joblib\n",
    "import datetime\n",
    "import random\n",
    "import seaborn as sns"
   ]
  },
  {
   "cell_type": "code",
   "execution_count": 2,
   "metadata": {},
   "outputs": [],
   "source": [
    "from sklearn.neighbors import KNeighborsClassifier \n",
    "from sklearn.naive_bayes import GaussianNB   \n",
    "from sklearn.svm import SVC\n",
    "from sklearn.linear_model import LogisticRegression, LinearRegression\n",
    "from sklearn.neural_network import MLPClassifier\n",
    "from sklearn.tree import DecisionTreeClassifier\n",
    "from sklearn.ensemble import RandomForestClassifier, VotingClassifier, GradientBoostingClassifier\n",
    "from sklearn.preprocessing import MinMaxScaler\n",
    "from sklearn.model_selection import train_test_split, GridSearchCV\n",
    "from sklearn.metrics import accuracy_score, f1_score, recall_score, precision_score, make_scorer, classification_report, confusion_matrix\n",
    "from sklearn.feature_selection import VarianceThreshold, RFE, SelectKBest, chi2, SelectFromModel\n",
    "from sklearn.svm import LinearSVC"
   ]
  },
  {
   "cell_type": "code",
   "execution_count": 3,
   "metadata": {},
   "outputs": [],
   "source": [
    "import hearty"
   ]
  },
  {
   "cell_type": "markdown",
   "metadata": {},
   "source": [
    "### Defining scorers for use in Grid Search (currently only f1_scorer is used)"
   ]
  },
  {
   "cell_type": "code",
   "execution_count": 4,
   "metadata": {},
   "outputs": [],
   "source": [
    "acc_scorer = make_scorer(accuracy_score)\n",
    "f1_scorer = make_scorer(f1_score, average='macro')\n",
    "recall_scorer = make_scorer(recall_score, average='macro')\n",
    "precision_scorer = make_scorer(precision_score, average='macro')"
   ]
  },
  {
   "cell_type": "markdown",
   "metadata": {},
   "source": [
    "## Defining classes and functions"
   ]
  },
  {
   "cell_type": "code",
   "execution_count": 5,
   "metadata": {},
   "outputs": [],
   "source": [
    "def prepare_data(data):\n",
    "    \n",
    "    # Shuffling data now to later split without shuffling\n",
    "    shuffled_cols_index = list(data.index)\n",
    "    random.shuffle(shuffled_cols_index)\n",
    "    data = data.iloc[shuffled_cols_index, :]\n",
    "    \n",
    "    # Splitting data into X and y\n",
    "    X = data.drop(columns = [58])\n",
    "    y = data[58]\n",
    "    \n",
    "    # Min-Max scaling the X data\n",
    "    scaler = MinMaxScaler()\n",
    "    X_scaled = pd.DataFrame(scaler.fit_transform(X), columns=X.columns)\n",
    "    \n",
    "    # Replacing all 1,2,3,4 in y with 1 (i.e. if person has any degree of illness, replace degree with 1)\n",
    "    y = y.apply(lambda x: 0 if x==0 else 1)\n",
    "    \n",
    "    # Splitting data into train and test\n",
    "    data = train_test_split(X_scaled, y, test_size=0.3, shuffle=False)\n",
    "    \n",
    "    return data"
   ]
  },
  {
   "cell_type": "code",
   "execution_count": 6,
   "metadata": {},
   "outputs": [],
   "source": [
    "class ModelHandler:\n",
    "    \n",
    "    def __init__(self, model, gs_params, data, model_params={}):\n",
    "        self.X_train, self.X_test, self.y_train, self.y_test = data\n",
    "        self.model = model\n",
    "        self.gs_params = gs_params\n",
    "        self.model_params = model_params\n",
    "        self.f1_scorer = make_scorer(f1_score, average='macro')\n",
    "        self.gs = self._get_gs()\n",
    "        self.best_model = None\n",
    "\n",
    "\n",
    "    def _get_gs(self):\n",
    "        try:\n",
    "            gs_model = self.model(**self.model_params)\n",
    "            print(f'\\nPerforming Grid Search on {gs_model.__class__.__name__}')\n",
    "            gs = GridSearchCV(gs_model, self.gs_params, cv=5, verbose=10,  n_jobs=-1, refit=False, scoring = self.f1_scorer)\n",
    "            gs.fit(self.X_train, self.y_train)\n",
    "        except:\n",
    "            gs = None\n",
    "        return gs\n",
    "        \n",
    "    def get_best_model(self, fit=True):\n",
    "        try:\n",
    "            if self.gs == None:   #perform grid search if one isn't available\n",
    "                self.gs = self._get_gs()\n",
    "            best_model = self.model(**self.gs.best_params_, **self.model_params)   #define model using params from grid search\n",
    "        except:   #if grid search is impossible, define model with standard params\n",
    "            best_model = self.model(**self.model_params)\n",
    "        if fit==True:   #fit the model before returning\n",
    "            best_model.fit(self.X_train, self.y_train)\n",
    "        self.best_model = best_model\n",
    "        return best_model\n",
    "\n",
    "    \n",
    "    def predict(self, data):\n",
    "        return self.best_model.predict(data)\n",
    "    \n",
    "    @staticmethod\n",
    "    def clf_report(y_test, pred):\n",
    "        return classification_report(y_test, pred)\n",
    "    \n",
    "    @staticmethod\n",
    "    def conf_matrix(y_test, pred):\n",
    "        return pd.DataFrame(confusion_matrix(y_test, pred))\n",
    "    \n",
    "    @staticmethod\n",
    "    def accuracy(y_test, pred):\n",
    "        return accuracy_score(y_test, pred)\n",
    "    \n",
    "    @staticmethod\n",
    "    def f1(y_test, pred):\n",
    "        return f1_score(y_test, pred, average='macro')\n",
    "    \n",
    "    @staticmethod\n",
    "    def recall(y_test, pred):\n",
    "        return recall_score(y_test, pred, average='macro')\n",
    "    \n",
    "    @staticmethod\n",
    "    def precision(y_test, pred):\n",
    "        return precision_score(y_test, pred, average='macro')        \n",
    "     "
   ]
  },
  {
   "cell_type": "code",
   "execution_count": 24,
   "metadata": {},
   "outputs": [],
   "source": [
    "def return_handlers(data, *models):\n",
    "    handlers = {}\n",
    "    \n",
    "    # creating model handlers\n",
    "    for model_tuple in models:\n",
    "        model_name, model, params, model_settings = model_tuple\n",
    "        handler = ModelHandler(model, params, data, model_settings)\n",
    "        handlers[model_name] = handler\n",
    "            \n",
    "    # instantiating and fitting best models\n",
    "    for model_name, handler in handlers.items():\n",
    "        best_model = handler.get_best_model()\n",
    "        handler.best_model = best_model\n",
    "    \n",
    "    # creating an additional voting classifier using all the fitted models above\n",
    "    try:\n",
    "        print(\"Training Voting Classifier using best models...\")\n",
    "        estimators = [(key, model) for key, model in return_best_models(**handlers).items()]\n",
    "        model_params = dict(estimators=estimators, voting='hard')\n",
    "        handler = ModelHandler(model = VotingClassifier, gs_params={}, data=data, model_params=model_params)\n",
    "        handler.best_model = VotingClassifier(**model_params)\n",
    "        handler.best_model.fit(handler.X_train, handler.y_train)\n",
    "        handlers['voting'] = handler\n",
    "    except:\n",
    "        pass\n",
    "\n",
    "    return handlers"
   ]
  },
  {
   "cell_type": "code",
   "execution_count": 8,
   "metadata": {},
   "outputs": [],
   "source": [
    "def return_best_models(**handlers):\n",
    "    best_models = {}\n",
    "    for model_name, handler in handlers.items():\n",
    "        try:\n",
    "            best_models[model_name] = handler.best_model\n",
    "        except:\n",
    "            handler.best_model = handler.get_best_model()\n",
    "            best_models[model_name] = handler.best_model\n",
    "    return best_models"
   ]
  },
  {
   "cell_type": "code",
   "execution_count": 9,
   "metadata": {},
   "outputs": [],
   "source": [
    "def analyze_visualize(model_name, handlers):\n",
    "    \n",
    "    plt.figure(figsize=(4,4))\n",
    "\n",
    "    print(f'\\nStatistics and Confusion Matrix for model \"{model_name}\"')\n",
    "    test_pred = handlers[ model_name ].predict(handlers[ model_name ].X_test)\n",
    "    test_pred = pd.DataFrame(test_pred)\n",
    "    test_pred_recall = recall_score(handlers[ model_name ].y_test, test_pred, average='macro')\n",
    "    real = handlers[ model_name ].y_test\n",
    "\n",
    "    # calc confusion matrix\n",
    "    conf_matrix = handlers[ model_name ].conf_matrix(real, test_pred)\n",
    "    conf_matrix = pd.DataFrame(conf_matrix)\n",
    "\n",
    "    # print heatmap\n",
    "    sns.heatmap(conf_matrix, annot=True, fmt=\"d\")\n",
    "    \n",
    "    print(handlers[model_name].clf_report(real, test_pred))"
   ]
  },
  {
   "cell_type": "code",
   "execution_count": 10,
   "metadata": {},
   "outputs": [],
   "source": [
    "def save_models(handlers, folder_path):\n",
    "    for model_name, handler in handlers.items():\n",
    "        model = handler.best_model\n",
    "        now = datetime.datetime.today()\n",
    "        now_str = now.strftime('%Y_%m_%d__%H_%M')\n",
    "        filename = f\"{folder_path}\\\\{model_name}__{now_str}.sav\"\n",
    "        joblib.dump(model, filename)    "
   ]
  },
  {
   "cell_type": "code",
   "execution_count": 18,
   "metadata": {},
   "outputs": [],
   "source": [
    "def save_conf_matrices(handlers, folder_path):\n",
    "    for model_name, handler in handlers.items():\n",
    "        conf_matrix = handler.conf_matrix(handler.y_test, handler.predict(handler.X_test))\n",
    "        now = datetime.datetime.today()\n",
    "        now_str = now.strftime('%Y_%m_%d__%H_%M')\n",
    "        filename = f\"{folder_path}\\\\{model_name}__{now_str}.sav\"\n",
    "        joblib.dump(conf_matrix, filename)"
   ]
  },
  {
   "cell_type": "code",
   "execution_count": 19,
   "metadata": {},
   "outputs": [],
   "source": [
    "def save_clf_reports(handlers, folder_path):\n",
    "    for model_name, handler in handlers.items():\n",
    "        clf_report = handler.clf_report(handler.y_test, handler.predict(handler.X_test))\n",
    "        now = datetime.datetime.today()\n",
    "        now_str = now.strftime('%Y_%m_%d__%H_%M')\n",
    "        filename = f\"{folder_path}\\\\{model_name}__{now_str}.sav\"\n",
    "        joblib.dump(clf_report, filename)"
   ]
  },
  {
   "cell_type": "markdown",
   "metadata": {},
   "source": [
    "### Preparing data"
   ]
  },
  {
   "cell_type": "code",
   "execution_count": 11,
   "metadata": {},
   "outputs": [],
   "source": [
    "data_bad_cols = prepare_data(hearty.clean_bad_cols_df)\n",
    "data_better_cols = prepare_data(hearty.clean_better_cols_df)"
   ]
  },
  {
   "cell_type": "markdown",
   "metadata": {},
   "source": [
    "## Preparing models for Grid Search"
   ]
  },
  {
   "cell_type": "code",
   "execution_count": 12,
   "metadata": {},
   "outputs": [],
   "source": [
    "# LogisticRegression\n",
    "log_params = {'penalty':['l1', 'l2', 'elasticnet', 'none'], \n",
    "              'C':[0.001, 0.01, 0.1, 1, 10, 100]}\n",
    "log_model_settings = dict(max_iter = 1000, multi_class='multinomial') \n",
    "log_tuple = ('lr', LogisticRegression, log_params, log_model_settings)  \n",
    "\n",
    "\n",
    "# KNeighborsClassifier\n",
    "knn_params = {'n_neighbors': [i for i in range(3,17,2)]}\n",
    "knn_model_settings = dict()\n",
    "knn_tuple = ('knn', KNeighborsClassifier, knn_params, knn_model_settings) \n",
    "\n",
    "\n",
    "# GaussianNB (grid search is not applicable to GaussianNB)\n",
    "gauss_params = dict()\n",
    "gauss_model_settings = dict()\n",
    "gauss_tuple = ('gauss', GaussianNB, gauss_params, gauss_model_settings)\n",
    "\n",
    "\n",
    "# SVC\n",
    "svc_params = {'C':[1,10,100,1000],\n",
    "              'gamma':[1,0.1,0.001,0.0001], \n",
    "              'kernel':['linear','rbf']}\n",
    "svc_model_settings = dict()\n",
    "svc_tuple = 'svc', SVC, svc_params, svc_model_settings\n",
    "\n",
    "\n",
    "# DecisionTreeClassifier\n",
    "d_tree_params = {'criterion':['gini','entropy'],\n",
    "                 'max_depth':[4,5,6,7,8,9,10,11,12,15,20,30,40,50,70,90,120,150]}\n",
    "d_tree_model_settings = dict()\n",
    "d_tree_tuple = ('d_tree', DecisionTreeClassifier, d_tree_params, d_tree_model_settings)\n",
    "\n",
    "\n",
    "# RandomForestClassifier\n",
    "r_forest_params = {'n_estimators': [50, 150],\n",
    "                    'max_features': ['sqrt', 0.25, 0.5, 0.75],\n",
    "                    'min_samples_split': [2, 4, 6]}\n",
    "r_forest_model_settings = dict()\n",
    "r_forest_tuple = ('r_forest', RandomForestClassifier, r_forest_params, r_forest_model_settings)\n",
    "\n",
    "\n",
    "# GradientBoostingClassifier\n",
    "g_boost_params = {'learning_rate':[0.15,0.1,0.05,0.01], \n",
    "                  'n_estimators':[100,250,500,750]}\n",
    "g_boost_settings = {}\n",
    "g_boost_tuple = ('g_boost', GradientBoostingClassifier, g_boost_params, g_boost_settings)\n",
    "\n",
    "\n",
    "# MLPClassifier\n",
    "nn_params = {'hidden_layer_sizes': [(50, 25, 5)],\n",
    "             'activation': ['tanh', 'relu'],\n",
    "             'solver': ['sgd', 'adam'],\n",
    "             'alpha': [0.0001, 0.05],\n",
    "             'learning_rate': ['constant','adaptive']}\n",
    "nn_model_settings = dict(max_iter=10000)\n",
    "nn_tuple = ('nn', MLPClassifier, nn_params, nn_model_settings)"
   ]
  },
  {
   "cell_type": "markdown",
   "metadata": {},
   "source": [
    "## Creating Handlers for 'bad columns' subset (the handler class performs grid search)"
   ]
  },
  {
   "cell_type": "code",
   "execution_count": 26,
   "metadata": {
    "scrolled": true
   },
   "outputs": [
    {
     "name": "stdout",
     "output_type": "stream",
     "text": [
      "\n",
      "Performing Grid Search on LogisticRegression\n",
      "Fitting 5 folds for each of 24 candidates, totalling 120 fits\n"
     ]
    },
    {
     "name": "stderr",
     "output_type": "stream",
     "text": [
      "[Parallel(n_jobs=-1)]: Using backend LokyBackend with 8 concurrent workers.\n",
      "[Parallel(n_jobs=-1)]: Batch computation too fast (0.0228s.) Setting batch_size=2.\n",
      "[Parallel(n_jobs=-1)]: Done   2 tasks      | elapsed:    0.0s\n",
      "[Parallel(n_jobs=-1)]: Done   9 tasks      | elapsed:    0.2s\n",
      "[Parallel(n_jobs=-1)]: Done  17 tasks      | elapsed:    0.3s\n",
      "[Parallel(n_jobs=-1)]: Done  34 tasks      | elapsed:    0.5s\n",
      "[Parallel(n_jobs=-1)]: Done  52 tasks      | elapsed:    0.6s\n",
      "[Parallel(n_jobs=-1)]: Done  74 tasks      | elapsed:    0.9s\n",
      "[Parallel(n_jobs=-1)]: Done  96 tasks      | elapsed:    1.1s\n",
      "[Parallel(n_jobs=-1)]: Done 105 out of 120 | elapsed:    1.3s remaining:    0.1s\n",
      "[Parallel(n_jobs=-1)]: Done 118 out of 120 | elapsed:    1.5s remaining:    0.0s\n",
      "[Parallel(n_jobs=-1)]: Done 120 out of 120 | elapsed:    1.6s finished\n",
      "[Parallel(n_jobs=-1)]: Using backend LokyBackend with 8 concurrent workers.\n",
      "[Parallel(n_jobs=-1)]: Batch computation too fast (0.0357s.) Setting batch_size=2.\n",
      "[Parallel(n_jobs=-1)]: Done   2 tasks      | elapsed:    0.0s\n",
      "[Parallel(n_jobs=-1)]: Done   9 tasks      | elapsed:    0.0s\n"
     ]
    },
    {
     "name": "stdout",
     "output_type": "stream",
     "text": [
      "\n",
      "Performing Grid Search on KNeighborsClassifier\n",
      "Fitting 5 folds for each of 7 candidates, totalling 35 fits\n"
     ]
    },
    {
     "name": "stderr",
     "output_type": "stream",
     "text": [
      "[Parallel(n_jobs=-1)]: Done  16 out of  35 | elapsed:    0.1s remaining:    0.1s\n",
      "[Parallel(n_jobs=-1)]: Done  20 out of  35 | elapsed:    0.2s remaining:    0.1s\n",
      "[Parallel(n_jobs=-1)]: Done  24 out of  35 | elapsed:    0.2s remaining:    0.1s\n",
      "[Parallel(n_jobs=-1)]: Done  28 out of  35 | elapsed:    0.3s remaining:    0.0s\n",
      "[Parallel(n_jobs=-1)]: Done  32 out of  35 | elapsed:    0.3s remaining:    0.0s\n",
      "[Parallel(n_jobs=-1)]: Done  35 out of  35 | elapsed:    0.3s finished\n",
      "[Parallel(n_jobs=-1)]: Using backend LokyBackend with 8 concurrent workers.\n",
      "[Parallel(n_jobs=-1)]: Batch computation too fast (0.0312s.) Setting batch_size=2.\n",
      "[Parallel(n_jobs=-1)]: Done   2 out of   5 | elapsed:    0.0s remaining:    0.0s\n",
      "[Parallel(n_jobs=-1)]: Done   3 out of   5 | elapsed:    0.0s remaining:    0.0s\n",
      "[Parallel(n_jobs=-1)]: Done   5 out of   5 | elapsed:    0.0s remaining:    0.0s\n",
      "[Parallel(n_jobs=-1)]: Done   5 out of   5 | elapsed:    0.0s finished\n",
      "[Parallel(n_jobs=-1)]: Using backend LokyBackend with 8 concurrent workers.\n"
     ]
    },
    {
     "name": "stdout",
     "output_type": "stream",
     "text": [
      "\n",
      "Performing Grid Search on GaussianNB\n",
      "Fitting 5 folds for each of 1 candidates, totalling 5 fits\n",
      "\n",
      "Performing Grid Search on SVC\n",
      "Fitting 5 folds for each of 32 candidates, totalling 160 fits\n"
     ]
    },
    {
     "name": "stderr",
     "output_type": "stream",
     "text": [
      "[Parallel(n_jobs=-1)]: Batch computation too fast (0.0511s.) Setting batch_size=2.\n",
      "[Parallel(n_jobs=-1)]: Done   2 tasks      | elapsed:    0.0s\n",
      "[Parallel(n_jobs=-1)]: Done   9 tasks      | elapsed:    0.1s\n",
      "[Parallel(n_jobs=-1)]: Done  16 tasks      | elapsed:    0.2s\n",
      "[Parallel(n_jobs=-1)]: Done  34 tasks      | elapsed:    0.4s\n",
      "[Parallel(n_jobs=-1)]: Done  52 tasks      | elapsed:    0.6s\n",
      "[Parallel(n_jobs=-1)]: Done  74 tasks      | elapsed:    0.8s\n",
      "[Parallel(n_jobs=-1)]: Done  96 tasks      | elapsed:    1.0s\n",
      "[Parallel(n_jobs=-1)]: Done 122 tasks      | elapsed:    1.5s\n",
      "[Parallel(n_jobs=-1)]: Done 160 out of 160 | elapsed:    6.4s finished\n",
      "[Parallel(n_jobs=-1)]: Using backend LokyBackend with 8 concurrent workers.\n",
      "[Parallel(n_jobs=-1)]: Batch computation too fast (0.0367s.) Setting batch_size=2.\n",
      "[Parallel(n_jobs=-1)]: Done   2 tasks      | elapsed:    0.0s\n"
     ]
    },
    {
     "name": "stdout",
     "output_type": "stream",
     "text": [
      "\n",
      "Performing Grid Search on DecisionTreeClassifier\n",
      "Fitting 5 folds for each of 36 candidates, totalling 180 fits\n"
     ]
    },
    {
     "name": "stderr",
     "output_type": "stream",
     "text": [
      "[Parallel(n_jobs=-1)]: Done   9 tasks      | elapsed:    0.1s\n",
      "[Parallel(n_jobs=-1)]: Done  16 tasks      | elapsed:    0.6s\n",
      "[Parallel(n_jobs=-1)]: Done  34 tasks      | elapsed:    0.8s\n",
      "[Parallel(n_jobs=-1)]: Done  52 tasks      | elapsed:    1.0s\n",
      "[Parallel(n_jobs=-1)]: Done  74 tasks      | elapsed:    1.2s\n",
      "[Parallel(n_jobs=-1)]: Done  96 tasks      | elapsed:    1.4s\n",
      "[Parallel(n_jobs=-1)]: Done 122 tasks      | elapsed:    1.5s\n",
      "[Parallel(n_jobs=-1)]: Batch computation too fast (0.1864s.) Setting batch_size=4.\n",
      "[Parallel(n_jobs=-1)]: Done 148 tasks      | elapsed:    1.7s\n",
      "[Parallel(n_jobs=-1)]: Done 180 out of 180 | elapsed:    2.0s finished\n",
      "[Parallel(n_jobs=-1)]: Using backend LokyBackend with 8 concurrent workers.\n"
     ]
    },
    {
     "name": "stdout",
     "output_type": "stream",
     "text": [
      "\n",
      "Performing Grid Search on RandomForestClassifier\n",
      "Fitting 5 folds for each of 24 candidates, totalling 120 fits\n"
     ]
    },
    {
     "name": "stderr",
     "output_type": "stream",
     "text": [
      "[Parallel(n_jobs=-1)]: Done   2 tasks      | elapsed:    0.4s\n",
      "[Parallel(n_jobs=-1)]: Done   9 tasks      | elapsed:    1.4s\n",
      "[Parallel(n_jobs=-1)]: Done  16 tasks      | elapsed:    2.8s\n",
      "[Parallel(n_jobs=-1)]: Done  25 tasks      | elapsed:    3.7s\n",
      "[Parallel(n_jobs=-1)]: Done  34 tasks      | elapsed:    5.2s\n",
      "[Parallel(n_jobs=-1)]: Done  45 tasks      | elapsed:    6.7s\n",
      "[Parallel(n_jobs=-1)]: Done  56 tasks      | elapsed:    9.0s\n",
      "[Parallel(n_jobs=-1)]: Done  69 tasks      | elapsed:   11.1s\n",
      "[Parallel(n_jobs=-1)]: Done  82 tasks      | elapsed:   13.2s\n",
      "[Parallel(n_jobs=-1)]: Done  97 tasks      | elapsed:   16.1s\n",
      "[Parallel(n_jobs=-1)]: Done 118 out of 120 | elapsed:   19.5s remaining:    0.2s\n",
      "[Parallel(n_jobs=-1)]: Done 120 out of 120 | elapsed:   19.6s finished\n",
      "[Parallel(n_jobs=-1)]: Using backend LokyBackend with 8 concurrent workers.\n"
     ]
    },
    {
     "name": "stdout",
     "output_type": "stream",
     "text": [
      "\n",
      "Performing Grid Search on GradientBoostingClassifier\n",
      "Fitting 5 folds for each of 16 candidates, totalling 80 fits\n"
     ]
    },
    {
     "name": "stderr",
     "output_type": "stream",
     "text": [
      "[Parallel(n_jobs=-1)]: Done   2 tasks      | elapsed:    0.5s\n",
      "[Parallel(n_jobs=-1)]: Done   9 tasks      | elapsed:    1.7s\n",
      "[Parallel(n_jobs=-1)]: Done  16 tasks      | elapsed:    4.8s\n",
      "[Parallel(n_jobs=-1)]: Done  25 tasks      | elapsed:    6.9s\n",
      "[Parallel(n_jobs=-1)]: Done  34 tasks      | elapsed:    9.2s\n",
      "[Parallel(n_jobs=-1)]: Done  45 tasks      | elapsed:   12.0s\n",
      "[Parallel(n_jobs=-1)]: Done  56 tasks      | elapsed:   15.4s\n",
      "[Parallel(n_jobs=-1)]: Done  74 out of  80 | elapsed:   20.1s remaining:    1.5s\n",
      "[Parallel(n_jobs=-1)]: Done  80 out of  80 | elapsed:   22.1s finished\n",
      "[Parallel(n_jobs=-1)]: Using backend LokyBackend with 8 concurrent workers.\n"
     ]
    },
    {
     "name": "stdout",
     "output_type": "stream",
     "text": [
      "\n",
      "Performing Grid Search on MLPClassifier\n",
      "Fitting 5 folds for each of 16 candidates, totalling 80 fits\n"
     ]
    },
    {
     "name": "stderr",
     "output_type": "stream",
     "text": [
      "[Parallel(n_jobs=-1)]: Done   2 tasks      | elapsed:    1.7s\n",
      "[Parallel(n_jobs=-1)]: Done   9 tasks      | elapsed:    4.9s\n",
      "[Parallel(n_jobs=-1)]: Done  16 tasks      | elapsed:    8.5s\n",
      "[Parallel(n_jobs=-1)]: Done  25 tasks      | elapsed:   12.2s\n",
      "[Parallel(n_jobs=-1)]: Done  34 tasks      | elapsed:   17.2s\n",
      "[Parallel(n_jobs=-1)]: Done  45 tasks      | elapsed:   24.2s\n",
      "[Parallel(n_jobs=-1)]: Done  56 tasks      | elapsed:   33.3s\n",
      "[Parallel(n_jobs=-1)]: Done  74 out of  80 | elapsed:   40.8s remaining:    3.2s\n",
      "[Parallel(n_jobs=-1)]: Done  80 out of  80 | elapsed:   44.5s finished\n"
     ]
    },
    {
     "name": "stdout",
     "output_type": "stream",
     "text": [
      "Training Voting Classifier using best models...\n",
      "\n",
      "Performing Grid Search on VotingClassifier\n",
      "Fitting 5 folds for each of 1 candidates, totalling 5 fits\n"
     ]
    },
    {
     "name": "stderr",
     "output_type": "stream",
     "text": [
      "[Parallel(n_jobs=-1)]: Using backend LokyBackend with 8 concurrent workers.\n",
      "[Parallel(n_jobs=-1)]: Done   2 out of   5 | elapsed:    2.7s remaining:    4.1s\n",
      "[Parallel(n_jobs=-1)]: Done   3 out of   5 | elapsed:    3.2s remaining:    2.1s\n",
      "[Parallel(n_jobs=-1)]: Done   5 out of   5 | elapsed:    3.7s remaining:    0.0s\n",
      "[Parallel(n_jobs=-1)]: Done   5 out of   5 | elapsed:    3.7s finished\n"
     ]
    },
    {
     "name": "stdout",
     "output_type": "stream",
     "text": [
      "{'lr': <__main__.ModelHandler object at 0x000001757DCDCFD0>, 'knn': <__main__.ModelHandler object at 0x000001757DBFC7C0>, 'gauss': <__main__.ModelHandler object at 0x000001757DCAC5E0>, 'svc': <__main__.ModelHandler object at 0x000001757DCC12B0>, 'd_tree': <__main__.ModelHandler object at 0x000001757DCFCAF0>, 'r_forest': <__main__.ModelHandler object at 0x000001757DD2F670>, 'g_boost': <__main__.ModelHandler object at 0x000001757DC89280>, 'nn': <__main__.ModelHandler object at 0x000001757DD3B0D0>, 'voting': <__main__.ModelHandler object at 0x000001757DD578E0>}\n"
     ]
    }
   ],
   "source": [
    "models = [log_tuple, knn_tuple, gauss_tuple, svc_tuple, d_tree_tuple, r_forest_tuple, g_boost_tuple, nn_tuple]\n",
    "handlers_bad_cols = return_handlers(data_bad_cols, *models)\n",
    "\n",
    "print(handlers_bad_cols)"
   ]
  },
  {
   "cell_type": "markdown",
   "metadata": {},
   "source": [
    "## Creating Handlers for 'better columns' subset (the handler class performs grid search)"
   ]
  },
  {
   "cell_type": "code",
   "execution_count": 27,
   "metadata": {},
   "outputs": [
    {
     "name": "stdout",
     "output_type": "stream",
     "text": [
      "\n",
      "Performing Grid Search on LogisticRegression\n",
      "Fitting 5 folds for each of 24 candidates, totalling 120 fits\n"
     ]
    },
    {
     "name": "stderr",
     "output_type": "stream",
     "text": [
      "[Parallel(n_jobs=-1)]: Using backend LokyBackend with 8 concurrent workers.\n",
      "[Parallel(n_jobs=-1)]: Batch computation too fast (0.0228s.) Setting batch_size=2.\n",
      "[Parallel(n_jobs=-1)]: Done   2 tasks      | elapsed:    0.0s\n",
      "[Parallel(n_jobs=-1)]: Done   9 tasks      | elapsed:    0.1s\n",
      "[Parallel(n_jobs=-1)]: Done  17 tasks      | elapsed:    0.2s\n",
      "[Parallel(n_jobs=-1)]: Done  34 tasks      | elapsed:    0.5s\n",
      "[Parallel(n_jobs=-1)]: Done  52 tasks      | elapsed:    0.8s\n",
      "[Parallel(n_jobs=-1)]: Done  74 tasks      | elapsed:    1.1s\n",
      "[Parallel(n_jobs=-1)]: Done  96 tasks      | elapsed:    1.5s\n",
      "[Parallel(n_jobs=-1)]: Done 120 out of 120 | elapsed:    2.0s finished\n",
      "[Parallel(n_jobs=-1)]: Using backend LokyBackend with 8 concurrent workers.\n",
      "[Parallel(n_jobs=-1)]: Batch computation too fast (0.0585s.) Setting batch_size=2.\n",
      "[Parallel(n_jobs=-1)]: Done   2 tasks      | elapsed:    0.0s\n"
     ]
    },
    {
     "name": "stdout",
     "output_type": "stream",
     "text": [
      "\n",
      "Performing Grid Search on KNeighborsClassifier\n",
      "Fitting 5 folds for each of 7 candidates, totalling 35 fits\n"
     ]
    },
    {
     "name": "stderr",
     "output_type": "stream",
     "text": [
      "[Parallel(n_jobs=-1)]: Done   9 tasks      | elapsed:    0.1s\n",
      "[Parallel(n_jobs=-1)]: Done  16 out of  35 | elapsed:    0.4s remaining:    0.4s\n",
      "[Parallel(n_jobs=-1)]: Done  20 out of  35 | elapsed:    0.5s remaining:    0.3s\n",
      "[Parallel(n_jobs=-1)]: Done  24 out of  35 | elapsed:    0.5s remaining:    0.2s\n",
      "[Parallel(n_jobs=-1)]: Done  28 out of  35 | elapsed:    0.6s remaining:    0.1s\n",
      "[Parallel(n_jobs=-1)]: Done  32 out of  35 | elapsed:    0.6s remaining:    0.0s\n",
      "[Parallel(n_jobs=-1)]: Done  35 out of  35 | elapsed:    0.7s finished\n",
      "[Parallel(n_jobs=-1)]: Using backend LokyBackend with 8 concurrent workers.\n",
      "[Parallel(n_jobs=-1)]: Batch computation too fast (0.0213s.) Setting batch_size=2.\n",
      "[Parallel(n_jobs=-1)]: Done   2 out of   5 | elapsed:    0.0s remaining:    0.0s\n",
      "[Parallel(n_jobs=-1)]: Done   3 out of   5 | elapsed:    0.0s remaining:    0.0s\n",
      "[Parallel(n_jobs=-1)]: Done   5 out of   5 | elapsed:    0.0s remaining:    0.0s\n",
      "[Parallel(n_jobs=-1)]: Done   5 out of   5 | elapsed:    0.0s finished\n",
      "[Parallel(n_jobs=-1)]: Using backend LokyBackend with 8 concurrent workers.\n"
     ]
    },
    {
     "name": "stdout",
     "output_type": "stream",
     "text": [
      "\n",
      "Performing Grid Search on GaussianNB\n",
      "Fitting 5 folds for each of 1 candidates, totalling 5 fits\n",
      "\n",
      "Performing Grid Search on SVC\n",
      "Fitting 5 folds for each of 32 candidates, totalling 160 fits\n"
     ]
    },
    {
     "name": "stderr",
     "output_type": "stream",
     "text": [
      "[Parallel(n_jobs=-1)]: Batch computation too fast (0.0451s.) Setting batch_size=2.\n",
      "[Parallel(n_jobs=-1)]: Done   2 tasks      | elapsed:    0.0s\n",
      "[Parallel(n_jobs=-1)]: Done   9 tasks      | elapsed:    0.1s\n",
      "[Parallel(n_jobs=-1)]: Done  16 tasks      | elapsed:    0.2s\n",
      "[Parallel(n_jobs=-1)]: Done  34 tasks      | elapsed:    0.6s\n",
      "[Parallel(n_jobs=-1)]: Done  52 tasks      | elapsed:    1.0s\n",
      "[Parallel(n_jobs=-1)]: Done  74 tasks      | elapsed:    1.5s\n",
      "[Parallel(n_jobs=-1)]: Done  96 tasks      | elapsed:    2.3s\n",
      "[Parallel(n_jobs=-1)]: Done 122 tasks      | elapsed:    3.5s\n",
      "[Parallel(n_jobs=-1)]: Done 160 out of 160 | elapsed:   13.0s finished\n",
      "[Parallel(n_jobs=-1)]: Using backend LokyBackend with 8 concurrent workers.\n",
      "[Parallel(n_jobs=-1)]: Batch computation too fast (0.0377s.) Setting batch_size=2.\n",
      "[Parallel(n_jobs=-1)]: Done   2 tasks      | elapsed:    0.0s\n",
      "[Parallel(n_jobs=-1)]: Done   9 tasks      | elapsed:    0.1s\n"
     ]
    },
    {
     "name": "stdout",
     "output_type": "stream",
     "text": [
      "\n",
      "Performing Grid Search on DecisionTreeClassifier\n",
      "Fitting 5 folds for each of 36 candidates, totalling 180 fits\n"
     ]
    },
    {
     "name": "stderr",
     "output_type": "stream",
     "text": [
      "[Parallel(n_jobs=-1)]: Done  16 tasks      | elapsed:    0.3s\n",
      "[Parallel(n_jobs=-1)]: Done  34 tasks      | elapsed:    0.5s\n",
      "[Parallel(n_jobs=-1)]: Done  52 tasks      | elapsed:    0.7s\n",
      "[Parallel(n_jobs=-1)]: Done  74 tasks      | elapsed:    0.9s\n",
      "[Parallel(n_jobs=-1)]: Done  96 tasks      | elapsed:    1.1s\n",
      "[Parallel(n_jobs=-1)]: Done 122 tasks      | elapsed:    1.5s\n",
      "[Parallel(n_jobs=-1)]: Done 148 tasks      | elapsed:    1.7s\n",
      "[Parallel(n_jobs=-1)]: Done 180 out of 180 | elapsed:    2.0s finished\n",
      "[Parallel(n_jobs=-1)]: Using backend LokyBackend with 8 concurrent workers.\n"
     ]
    },
    {
     "name": "stdout",
     "output_type": "stream",
     "text": [
      "\n",
      "Performing Grid Search on RandomForestClassifier\n",
      "Fitting 5 folds for each of 24 candidates, totalling 120 fits\n"
     ]
    },
    {
     "name": "stderr",
     "output_type": "stream",
     "text": [
      "[Parallel(n_jobs=-1)]: Done   2 tasks      | elapsed:    0.5s\n",
      "[Parallel(n_jobs=-1)]: Done   9 tasks      | elapsed:    1.8s\n",
      "[Parallel(n_jobs=-1)]: Done  16 tasks      | elapsed:    3.4s\n",
      "[Parallel(n_jobs=-1)]: Done  25 tasks      | elapsed:    4.5s\n",
      "[Parallel(n_jobs=-1)]: Done  34 tasks      | elapsed:    6.2s\n",
      "[Parallel(n_jobs=-1)]: Done  45 tasks      | elapsed:    8.2s\n",
      "[Parallel(n_jobs=-1)]: Done  56 tasks      | elapsed:   10.3s\n",
      "[Parallel(n_jobs=-1)]: Done  69 tasks      | elapsed:   13.2s\n",
      "[Parallel(n_jobs=-1)]: Done  82 tasks      | elapsed:   15.7s\n",
      "[Parallel(n_jobs=-1)]: Done  97 tasks      | elapsed:   19.5s\n",
      "[Parallel(n_jobs=-1)]: Done 118 out of 120 | elapsed:   25.0s remaining:    0.3s\n",
      "[Parallel(n_jobs=-1)]: Done 120 out of 120 | elapsed:   25.2s finished\n",
      "[Parallel(n_jobs=-1)]: Using backend LokyBackend with 8 concurrent workers.\n"
     ]
    },
    {
     "name": "stdout",
     "output_type": "stream",
     "text": [
      "\n",
      "Performing Grid Search on GradientBoostingClassifier\n",
      "Fitting 5 folds for each of 16 candidates, totalling 80 fits\n"
     ]
    },
    {
     "name": "stderr",
     "output_type": "stream",
     "text": [
      "[Parallel(n_jobs=-1)]: Done   2 tasks      | elapsed:    0.8s\n",
      "[Parallel(n_jobs=-1)]: Done   9 tasks      | elapsed:    2.7s\n",
      "[Parallel(n_jobs=-1)]: Done  16 tasks      | elapsed:    6.4s\n",
      "[Parallel(n_jobs=-1)]: Done  25 tasks      | elapsed:   10.0s\n",
      "[Parallel(n_jobs=-1)]: Done  34 tasks      | elapsed:   15.0s\n",
      "[Parallel(n_jobs=-1)]: Done  45 tasks      | elapsed:   19.6s\n",
      "[Parallel(n_jobs=-1)]: Done  56 tasks      | elapsed:   25.7s\n",
      "[Parallel(n_jobs=-1)]: Done  74 out of  80 | elapsed:   34.3s remaining:    2.7s\n",
      "[Parallel(n_jobs=-1)]: Done  80 out of  80 | elapsed:   38.5s finished\n",
      "[Parallel(n_jobs=-1)]: Using backend LokyBackend with 8 concurrent workers.\n"
     ]
    },
    {
     "name": "stdout",
     "output_type": "stream",
     "text": [
      "\n",
      "Performing Grid Search on MLPClassifier\n",
      "Fitting 5 folds for each of 16 candidates, totalling 80 fits\n"
     ]
    },
    {
     "name": "stderr",
     "output_type": "stream",
     "text": [
      "[Parallel(n_jobs=-1)]: Done   2 tasks      | elapsed:    8.3s\n",
      "[Parallel(n_jobs=-1)]: Done   9 tasks      | elapsed:   25.3s\n",
      "[Parallel(n_jobs=-1)]: Done  16 tasks      | elapsed:   51.4s\n",
      "[Parallel(n_jobs=-1)]: Done  25 tasks      | elapsed:  1.3min\n",
      "[Parallel(n_jobs=-1)]: Done  34 tasks      | elapsed:  1.6min\n",
      "[Parallel(n_jobs=-1)]: Done  45 tasks      | elapsed:  1.9min\n",
      "[Parallel(n_jobs=-1)]: Done  56 tasks      | elapsed:  2.3min\n",
      "[Parallel(n_jobs=-1)]: Done  74 out of  80 | elapsed:  2.8min remaining:   13.4s\n",
      "[Parallel(n_jobs=-1)]: Done  80 out of  80 | elapsed:  2.9min finished\n"
     ]
    },
    {
     "name": "stdout",
     "output_type": "stream",
     "text": [
      "Training Voting Classifier using best models...\n",
      "\n",
      "Performing Grid Search on VotingClassifier\n",
      "Fitting 5 folds for each of 1 candidates, totalling 5 fits\n"
     ]
    },
    {
     "name": "stderr",
     "output_type": "stream",
     "text": [
      "[Parallel(n_jobs=-1)]: Using backend LokyBackend with 8 concurrent workers.\n",
      "[Parallel(n_jobs=-1)]: Done   2 out of   5 | elapsed:    9.7s remaining:   14.6s\n",
      "[Parallel(n_jobs=-1)]: Done   3 out of   5 | elapsed:    9.9s remaining:    6.5s\n",
      "[Parallel(n_jobs=-1)]: Done   5 out of   5 | elapsed:   11.3s remaining:    0.0s\n",
      "[Parallel(n_jobs=-1)]: Done   5 out of   5 | elapsed:   11.3s finished\n"
     ]
    },
    {
     "name": "stdout",
     "output_type": "stream",
     "text": [
      "{'lr': <__main__.ModelHandler object at 0x000001757DCC1F10>, 'knn': <__main__.ModelHandler object at 0x000001757C8DADC0>, 'gauss': <__main__.ModelHandler object at 0x000001757DCCA610>, 'svc': <__main__.ModelHandler object at 0x000001757DCB04F0>, 'd_tree': <__main__.ModelHandler object at 0x000001757DD571F0>, 'r_forest': <__main__.ModelHandler object at 0x000001757DD1C6D0>, 'g_boost': <__main__.ModelHandler object at 0x000001757DD52550>, 'nn': <__main__.ModelHandler object at 0x000001757DD52FA0>, 'voting': <__main__.ModelHandler object at 0x000001757DDC3820>}\n"
     ]
    }
   ],
   "source": [
    "models = [log_tuple, knn_tuple, gauss_tuple, svc_tuple, d_tree_tuple, r_forest_tuple, g_boost_tuple, nn_tuple]\n",
    "handlers_better_cols = return_handlers(data_better_cols, *models)\n",
    "\n",
    "print(handlers_better_cols)"
   ]
  },
  {
   "cell_type": "markdown",
   "metadata": {},
   "source": [
    "## Visualizing Recall"
   ]
  },
  {
   "cell_type": "code",
   "execution_count": 23,
   "metadata": {},
   "outputs": [
    {
     "name": "stdout",
     "output_type": "stream",
     "text": [
      "\n",
      "Statistics and Confusion Matrix for model \"nn\"\n",
      "              precision    recall  f1-score   support\n",
      "\n",
      "           0       0.58      0.62      0.60        56\n",
      "           1       0.67      0.63      0.65        68\n",
      "\n",
      "    accuracy                           0.63       124\n",
      "   macro avg       0.63      0.63      0.63       124\n",
      "weighted avg       0.63      0.63      0.63       124\n",
      "\n"
     ]
    },
    {
     "data": {
      "image/png": "[encoded data removed]",
      "text/plain": [
       "<Figure size 288x288 with 2 Axes>"
      ]
     },
     "metadata": {
      "needs_background": "light"
     },
     "output_type": "display_data"
    }
   ],
   "source": [
    "# stats for 'bad columns' data (\"voting\" model)\n",
    "analyze_visualize('nn', handlers_bad_cols)"
   ]
  },
  {
   "cell_type": "code",
   "execution_count": 44,
   "metadata": {},
   "outputs": [
    {
     "name": "stdout",
     "output_type": "stream",
     "text": [
      "\n",
      "Statistics and Confusion Matrix for model \"nn\"\n",
      "              precision    recall  f1-score   support\n",
      "\n",
      "           0       0.78      0.70      0.73       125\n",
      "           1       0.76      0.83      0.79       145\n",
      "\n",
      "    accuracy                           0.77       270\n",
      "   macro avg       0.77      0.76      0.76       270\n",
      "weighted avg       0.77      0.77      0.77       270\n",
      "\n"
     ]
    },
    {
     "data": {
      "image/png": "[encoded data removed]",
      "text/plain": [
       "<Figure size 288x288 with 2 Axes>"
      ]
     },
     "metadata": {
      "needs_background": "light"
     },
     "output_type": "display_data"
    }
   ],
   "source": [
    "# stats for 'better columns' data (\"voting\" model)\n",
    "analyze_visualize('nn', handlers_better_cols)"
   ]
  },
  {
   "cell_type": "markdown",
   "metadata": {},
   "source": [
    "# Saving Models"
   ]
  },
  {
   "cell_type": "code",
   "execution_count": 48,
   "metadata": {},
   "outputs": [
    {
     "data": {
      "text/plain": [
       "array([0], dtype=int64)"
      ]
     },
     "execution_count": 48,
     "metadata": {},
     "output_type": "execute_result"
    }
   ],
   "source": [
    "handlers_bad_cols['voting'].predict([[1,2,3,4,5,6,7,8,9]])"
   ]
  },
  {
   "cell_type": "code",
   "execution_count": 49,
   "metadata": {},
   "outputs": [],
   "source": [
    "save_models(handlers_bad_cols, \"models\\\\bad_col_models\")\n",
    "save_models(handlers_better_cols, \"models\\\\better_col_models\")"
   ]
  },
  {
   "cell_type": "code",
   "execution_count": 28,
   "metadata": {},
   "outputs": [],
   "source": [
    "save_conf_matrices(handlers_bad_cols, \"models\\\\bad_col_conf_matrices\")\n",
    "save_conf_matrices(handlers_bad_cols, \"models\\\\better_col_conf_matrices\")"
   ]
  },
  {
   "cell_type": "code",
   "execution_count": 29,
   "metadata": {},
   "outputs": [],
   "source": [
    "save_clf_reports(handlers_better_cols, \"models\\\\bad_col_clf_reports\")\n",
    "save_clf_reports(handlers_better_cols, \"models\\\\better_col_clf_reports\")"
   ]
  }
 ],
 "metadata": {
  "kernelspec": {
   "display_name": "Python 3",
   "language": "python",
   "name": "python3"
  },
  "language_info": {
   "codemirror_mode": {
    "name": "ipython",
    "version": 3
   },
   "file_extension": ".py",
   "mimetype": "text/x-python",
   "name": "python",
   "nbconvert_exporter": "python",
   "pygments_lexer": "ipython3",
   "version": "3.9.0"
  }
 },
 "nbformat": 4,
 "nbformat_minor": 4
}
