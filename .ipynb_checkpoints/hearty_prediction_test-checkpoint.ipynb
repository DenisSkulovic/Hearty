{
 "cells": [
  {
   "cell_type": "code",
   "execution_count": 18,
   "metadata": {},
   "outputs": [],
   "source": [
    "import pandas as pd \n",
    "import numpy as np \n",
    "import datadotworld as dw\n",
    "import matplotlib.pyplot as plt \n",
    "import sklearn as sk \n",
    "import csv\n"
   ]
  },
  {
   "cell_type": "code",
   "execution_count": 29,
   "metadata": {},
   "outputs": [],
   "source": [
    "from sklearn.neighbors import NearestNeighbors\n",
    "from sklearn.naive_bayes import GaussianNB   \n",
    "from sklearn.svm import SVC\n",
    "from sklearn.linear_model import LogisticRegression\n",
    "from sklearn.model_selection import train_test_split\n",
    "from sklearn.metrics import accuracy_score\n"
   ]
  },
  {
   "cell_type": "code",
   "execution_count": 24,
   "metadata": {},
   "outputs": [
    {
     "name": "stdout",
     "output_type": "stream",
     "text": [
      "2981\n"
     ]
    }
   ],
   "source": [
    "with dw.open_remote_file('uci/heart-disease','cleveland_data.csv',  mode='r') as r:\n",
    "    csvr = csv.DictReader(r)\n",
    "    counter = 0 \n",
    "    \n",
    "    for row in csvr:\n",
    "        counter += 1\n",
    "        \n",
    "#         print(row)\n",
    "    print(counter)\n",
    "    "
   ]
  },
  {
   "cell_type": "code",
   "execution_count": null,
   "metadata": {},
   "outputs": [],
   "source": [
    "def Prediction():\n",
    "    \n",
    "    def__init__(self, X, y, model, params,test_size=0.25):\n",
    "        self.X_train, self.X_test, self.y_train, self.y_test = train_test_split(X, y, test_size=test_size)\n",
    "        self.model = model\n",
    "        self.grid()\n",
    "        self.params = params\n",
    "        self.test_size = test_size\n",
    "        self.predictions = self.predict()\n",
    "        self.best_model = self.return_best_model()\n",
    "         \n",
    "            \n",
    "    def return_best_model(self):\n",
    "        grid_search = GridSearchCV(model(max_iter=100), self.params, cv=5, n_jobs=-1,  scoring = 'accuracy')\n",
    "        grid_search.fit(self.X_train, self.y_train)\n",
    "        best_params = grid_search.best_params_\n",
    "        best_model = self.model(**best_params)\n",
    "        return best_model\n",
    "        \n",
    "    @property\n",
    "    def accuracy(self):\n",
    "        test_predictions= self.best_model.predict(self.X_test)\n",
    "        return accuracy_score(self.y_test, test_predictions)\n",
    "    \n",
    "    \n",
    "    \n",
    "    \n",
    "    \n"
   ]
  },
  {
   "cell_type": "code",
   "execution_count": null,
   "metadata": {},
   "outputs": [],
   "source": [
    "gos = GaussianNB() "
   ]
  },
  {
   "cell_type": "code",
   "execution_count": null,
   "metadata": {},
   "outputs": [],
   "source": [
    "knn = NearestNeighbors()\n"
   ]
  },
  {
   "cell_type": "code",
   "execution_count": 30,
   "metadata": {},
   "outputs": [],
   "source": [
    "log = LogisticRegression()\n",
    "\n"
   ]
  },
  {
   "cell_type": "code",
   "execution_count": 17,
   "metadata": {},
   "outputs": [
    {
     "name": "stdout",
     "output_type": "stream",
     "text": [
      "2981\n"
     ]
    }
   ],
   "source": [
    "svm = SVC()\n"
   ]
  },
  {
   "cell_type": "code",
   "execution_count": null,
   "metadata": {},
   "outputs": [],
   "source": [
    "# UnsumbleAvreger(self, **models)\n",
    "# we want to be able to input: \n",
    "# 1)list with models Object we want to use \n",
    "# 2) user Input variables/data\n",
    "\n",
    "#>> make avrage of the 5 classes to make prediction\n",
    "\n",
    "\n",
    "\n",
    "\n",
    " \n",
    "\n"
   ]
  },
  {
   "cell_type": "code",
   "execution_count": null,
   "metadata": {},
   "outputs": [],
   "source": []
  },
  {
   "cell_type": "code",
   "execution_count": null,
   "metadata": {},
   "outputs": [],
   "source": []
  },
  {
   "cell_type": "code",
   "execution_count": null,
   "metadata": {},
   "outputs": [],
   "source": []
  },
  {
   "cell_type": "code",
   "execution_count": null,
   "metadata": {},
   "outputs": [],
   "source": [
    "\n",
    "        "
   ]
  },
  {
   "cell_type": "code",
   "execution_count": null,
   "metadata": {},
   "outputs": [],
   "source": []
  },
  {
   "cell_type": "code",
   "execution_count": null,
   "metadata": {},
   "outputs": [],
   "source": []
  },
  {
   "cell_type": "code",
   "execution_count": null,
   "metadata": {},
   "outputs": [],
   "source": []
  }
 ],
 "metadata": {
  "kernelspec": {
   "display_name": "Python 3",
   "language": "python",
   "name": "python3"
  },
  "language_info": {
   "codemirror_mode": {
    "name": "ipython",
    "version": 3
   },
   "file_extension": ".py",
   "mimetype": "text/x-python",
   "name": "python",
   "nbconvert_exporter": "python",
   "pygments_lexer": "ipython3",
   "version": "3.9.0"
  }
 },
 "nbformat": 4,
 "nbformat_minor": 4
}
